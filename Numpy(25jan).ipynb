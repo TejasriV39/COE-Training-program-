{
 "cells": [
  {
   "cell_type": "code",
   "execution_count": 1,
   "id": "aa996300-4a09-487c-950f-775336956efc",
   "metadata": {},
   "outputs": [],
   "source": [
    "import numpy as np"
   ]
  },
  {
   "cell_type": "code",
   "execution_count": 3,
   "id": "fff6ad30-e3bf-47e5-bb3f-94bf18dd6306",
   "metadata": {},
   "outputs": [
    {
     "name": "stdout",
     "output_type": "stream",
     "text": [
      "[30  9  5  3]\n"
     ]
    }
   ],
   "source": [
    "arr1=np.array([30,9,5,3])\n",
    "print(arr1)"
   ]
  },
  {
   "cell_type": "code",
   "execution_count": 10,
   "id": "fa6ff254-aa7f-4810-9621-86fbc197e28e",
   "metadata": {},
   "outputs": [
    {
     "name": "stdout",
     "output_type": "stream",
     "text": [
      "[[ 3  5  6  7]\n",
      " [ 9 30  2 11]]\n"
     ]
    }
   ],
   "source": [
    "arr2=np.array([[3,5,6,7],[9,30,2,11]]) \n",
    "print(arr2)"
   ]
  },
  {
   "cell_type": "code",
   "execution_count": 14,
   "id": "e2196c25-030c-4f80-9210-640608456db5",
   "metadata": {},
   "outputs": [
    {
     "name": "stdout",
     "output_type": "stream",
     "text": [
      "30\n",
      "9\n"
     ]
    }
   ],
   "source": [
    "print(arr2[1][1])\n",
    "print(arr2[1][0])"
   ]
  },
  {
   "cell_type": "code",
   "execution_count": 28,
   "id": "012bbfd7-b82f-401d-8087-e6444e6db16e",
   "metadata": {},
   "outputs": [
    {
     "name": "stdout",
     "output_type": "stream",
     "text": [
      "[[0. 0. 0.]\n",
      " [0. 0. 0.]\n",
      " [0. 0. 0.]]\n"
     ]
    }
   ],
   "source": [
    "arr3=np.zeros((3,3))\n",
    "print(arr3)"
   ]
  },
  {
   "cell_type": "code",
   "execution_count": 30,
   "id": "fbacf1a0-a966-476e-b4e1-5047ad2ee7d5",
   "metadata": {},
   "outputs": [
    {
     "name": "stdout",
     "output_type": "stream",
     "text": [
      "[[1. 1. 1.]\n",
      " [1. 1. 1.]\n",
      " [1. 1. 1.]]\n"
     ]
    }
   ],
   "source": [
    "arr4=np.ones((3,3))\n",
    "print(arr4)"
   ]
  },
  {
   "cell_type": "code",
   "execution_count": 34,
   "id": "c25d31a5-3646-4b6b-a4e2-a0f5b0d51181",
   "metadata": {},
   "outputs": [
    {
     "name": "stdout",
     "output_type": "stream",
     "text": [
      "[[0.58088013 0.3675484  0.24041345]\n",
      " [0.14267415 0.66757817 0.7391293 ]\n",
      " [0.7076877  0.15401964 0.29195043]\n",
      " [0.34756726 0.97447578 0.56558234]\n",
      " [0.74806763 0.30892418 0.59427784]]\n"
     ]
    }
   ],
   "source": [
    "random_ar=np.random.random((5,3))\n",
    "print(random_ar)"
   ]
  },
  {
   "cell_type": "code",
   "execution_count": 36,
   "id": "ac06329c-9dc1-43c7-b26e-d168362ea492",
   "metadata": {},
   "outputs": [
    {
     "name": "stdout",
     "output_type": "stream",
     "text": [
      "[[1. 0. 0. 0. 0.]\n",
      " [0. 1. 0. 0. 0.]\n",
      " [0. 0. 1. 0. 0.]\n",
      " [0. 0. 0. 1. 0.]\n",
      " [0. 0. 0. 0. 1.]]\n"
     ]
    }
   ],
   "source": [
    "identity=np.eye(5)\n",
    "print(identity)"
   ]
  },
  {
   "cell_type": "code",
   "execution_count": 38,
   "id": "79510ea8-b555-4c78-96aa-097620e38518",
   "metadata": {},
   "outputs": [
    {
     "name": "stdout",
     "output_type": "stream",
     "text": [
      "[0 2 4 6 8]\n"
     ]
    }
   ],
   "source": [
    "range_ar=np.arange(0,10,2)\n",
    "print(range_ar)"
   ]
  },
  {
   "cell_type": "code",
   "execution_count": 51,
   "id": "cfe4937f-63f2-459d-b49f-9284a15a408f",
   "metadata": {},
   "outputs": [
    {
     "name": "stdout",
     "output_type": "stream",
     "text": [
      "Shape: (2, 3)\n",
      "Size: 6\n",
      "Data type: int32\n",
      "Number of dimensions: 2\n",
      "2\n",
      "6\n"
     ]
    }
   ],
   "source": [
    "arr=np.array([[1,2,3],[4,5,6]])\n",
    "print(\"Shape:\",arr.shape)\n",
    "print(\"Size:\",arr.size)\n",
    "print(\"Data type:\",arr.dtype)\n",
    "print(\"Number of dimensions:\",arr.ndim)\n",
    "print(arr[0,1])\n",
    "print(arr[1,-1])"
   ]
  },
  {
   "cell_type": "code",
   "execution_count": 63,
   "id": "0adb792e-94c2-496e-90ec-aa946aa35e96",
   "metadata": {},
   "outputs": [
    {
     "name": "stdout",
     "output_type": "stream",
     "text": [
      "[[1 2 3]\n",
      " [4 5 6]]\n"
     ]
    }
   ],
   "source": [
    "print(arr)\n"
   ]
  },
  {
   "cell_type": "code",
   "execution_count": 77,
   "id": "44afee28-bd88-4ca7-a41c-dee8b8f549f6",
   "metadata": {},
   "outputs": [
    {
     "name": "stdout",
     "output_type": "stream",
     "text": [
      "[[2 3]\n",
      " [5 6]]\n"
     ]
    }
   ],
   "source": [
    "print(arr[:,1:])"
   ]
  },
  {
   "cell_type": "code",
   "execution_count": 85,
   "id": "29d886cf-95fa-41d8-bad8-0958be2ddf3d",
   "metadata": {},
   "outputs": [
    {
     "name": "stdout",
     "output_type": "stream",
     "text": [
      "[[ 1  2  3  4  5]\n",
      " [ 6  7  8  9 10]\n",
      " [11 12 13 14 15]]\n"
     ]
    }
   ],
   "source": [
    "arr=np.array([[1,2,3,4,5],[6,7,8,9,10],[11,12,13,14,15]])\n",
    "print(arr)"
   ]
  },
  {
   "cell_type": "code",
   "execution_count": 112,
   "id": "030fea2f-f201-475c-ac86-468defee5b00",
   "metadata": {},
   "outputs": [
    {
     "name": "stdout",
     "output_type": "stream",
     "text": [
      "[[ 8  9 10]\n",
      " [13 14 15]]\n"
     ]
    }
   ],
   "source": [
    "print(arr[1:,2:])"
   ]
  },
  {
   "cell_type": "code",
   "execution_count": 95,
   "id": "a7c2289c-89f8-4b4e-9c6c-8feca0029d99",
   "metadata": {},
   "outputs": [
    {
     "name": "stdout",
     "output_type": "stream",
     "text": [
      "[30  9 11]\n",
      "[5 3 7]\n"
     ]
    }
   ],
   "source": [
    "a1=np.array([30,9,11])\n",
    "print(a1)\n",
    "a2=np.array([5,3,7])\n",
    "print(a2)"
   ]
  },
  {
   "cell_type": "code",
   "execution_count": 97,
   "id": "fb647cf5-8fd3-4764-ad25-cd083b7c168c",
   "metadata": {},
   "outputs": [
    {
     "name": "stdout",
     "output_type": "stream",
     "text": [
      "[35 12 18]\n"
     ]
    }
   ],
   "source": [
    "print(a1+a2)"
   ]
  },
  {
   "cell_type": "code",
   "execution_count": 99,
   "id": "14f9994e-c716-4fe8-9b02-43ba2aef9ccf",
   "metadata": {},
   "outputs": [
    {
     "name": "stdout",
     "output_type": "stream",
     "text": [
      "[25  6  4]\n"
     ]
    }
   ],
   "source": [
    "print(a1-a2)"
   ]
  },
  {
   "cell_type": "code",
   "execution_count": 101,
   "id": "41f7a901-94f3-4913-bb2d-6665f3e978e2",
   "metadata": {},
   "outputs": [
    {
     "name": "stdout",
     "output_type": "stream",
     "text": [
      "[150  27  77]\n"
     ]
    }
   ],
   "source": [
    "print(a1*a2)"
   ]
  },
  {
   "cell_type": "code",
   "execution_count": 103,
   "id": "9cf00151-6270-42ec-b336-f97f5163c258",
   "metadata": {},
   "outputs": [
    {
     "name": "stdout",
     "output_type": "stream",
     "text": [
      "[6.         3.         1.57142857]\n"
     ]
    }
   ],
   "source": [
    "print(a1/a2)"
   ]
  },
  {
   "cell_type": "code",
   "execution_count": 105,
   "id": "2f90c446-b60a-4729-ba3f-53059fa22546",
   "metadata": {},
   "outputs": [
    {
     "name": "stdout",
     "output_type": "stream",
     "text": [
      "[6 3 1]\n"
     ]
    }
   ],
   "source": [
    "print(a1//a2)"
   ]
  },
  {
   "cell_type": "code",
   "execution_count": 140,
   "id": "8b7017a3-ee65-43b8-b0b4-e57891996d08",
   "metadata": {},
   "outputs": [],
   "source": [
    "b1=np.array([[1,2,3],[4,5,6]])\n",
    "b2=np.array([[7,8,9],[20,30,40],[50,60,70]])"
   ]
  },
  {
   "cell_type": "code",
   "execution_count": null,
   "id": "7724e3fb-806e-4b46-8b73-4697c4e01c73",
   "metadata": {},
   "outputs": [],
   "source": []
  },
  {
   "cell_type": "code",
   "execution_count": 147,
   "id": "71aa83ab-3c51-4bc6-9fe6-1681b1c29f11",
   "metadata": {},
   "outputs": [
    {
     "name": "stdout",
     "output_type": "stream",
     "text": [
      "[[197 248 299]\n",
      " [428 542 656]]\n"
     ]
    }
   ],
   "source": [
    "result=np.dot(b1,b2)\n",
    "print(result)"
   ]
  },
  {
   "cell_type": "code",
   "execution_count": 149,
   "id": "a9d3deff-e14b-4b19-afcd-c50833e57de4",
   "metadata": {},
   "outputs": [
    {
     "data": {
      "image/png": "[encoded data removed]",
      "text/plain": [
       "<Figure size 640x480 with 1 Axes>"
      ]
     },
     "metadata": {},
     "output_type": "display_data"
    }
   ],
   "source": [
    "import matplotlib.pyplot as plt\n",
    "plt.plot(result)\n",
    "plt.show()"
   ]
  },
  {
   "cell_type": "code",
   "execution_count": 151,
   "id": "76ae8fa0-6c35-4dde-bb93-4f25690378c2",
   "metadata": {},
   "outputs": [
    {
     "name": "stdout",
     "output_type": "stream",
     "text": [
      "[1.06864746e+13 8.10308393e+03 1.48413159e+02]\n",
      "[5.47722558 3.         2.23606798]\n",
      "[3.40119738 2.19722458 1.60943791]\n"
     ]
    }
   ],
   "source": [
    "arr=np.array([30,9,5])\n",
    "print(np.exp(arr))\n",
    "print(np.sqrt(arr))\n",
    "print(np.log(arr))"
   ]
  },
  {
   "cell_type": "code",
   "execution_count": 153,
   "id": "caee7bde-f27d-476e-beaa-a08be01f6705",
   "metadata": {},
   "outputs": [
    {
     "name": "stdout",
     "output_type": "stream",
     "text": [
      "Sum: 10\n",
      "Mean: 2.5\n",
      "Standard Deviation: 1.118033988749895\n",
      "Max: 4\n",
      "Min: 1\n"
     ]
    }
   ],
   "source": [
    "#Aggregate Functions\n",
    "\n",
    "arr=np.array([1,2,3,4])\n",
    "print(\"Sum:\",np.sum(arr))\n",
    "print(\"Mean:\",np.mean(arr))\n",
    "print(\"Standard Deviation:\",np.std(arr))\n",
    "print(\"Max:\",np.max(arr))\n",
    "print(\"Min:\",np.min(arr))"
   ]
  },
  {
   "cell_type": "code",
   "execution_count": 155,
   "id": "743e81c2-445e-4c89-94ed-c8822c9e60fd",
   "metadata": {},
   "outputs": [
    {
     "name": "stdout",
     "output_type": "stream",
     "text": [
      "[[ 1  2  3  4  5]\n",
      " [ 6  7  8  9 10]]\n"
     ]
    }
   ],
   "source": [
    "arr=np.array([1,2,3,4,5,6,7,8,9,10])\n",
    "reshaped_arr=arr.reshape(2,5)\n",
    "print(reshaped_arr)"
   ]
  },
  {
   "cell_type": "code",
   "execution_count": 157,
   "id": "2fe4566f-a74e-47a5-803e-569fd33c4e8c",
   "metadata": {},
   "outputs": [
    {
     "name": "stdout",
     "output_type": "stream",
     "text": [
      "[30  9 11]\n",
      "[5 3 7]\n"
     ]
    }
   ],
   "source": [
    "a1=np.array([30,9,11])\n",
    "print(a1)\n",
    "a2=np.array([5,3,7])\n",
    "print(a2)"
   ]
  },
  {
   "cell_type": "code",
   "execution_count": 161,
   "id": "85a6ba77-f46e-47c3-8cd4-44847e8e3b85",
   "metadata": {},
   "outputs": [
    {
     "name": "stdout",
     "output_type": "stream",
     "text": [
      "[[30  9 11]\n",
      " [ 5  3  7]]\n"
     ]
    }
   ],
   "source": [
    "print(np.vstack((a1,a2)))"
   ]
  },
  {
   "cell_type": "code",
   "execution_count": 165,
   "id": "a4c7c86f-9ebc-49a9-8aa1-c8891879e628",
   "metadata": {},
   "outputs": [
    {
     "name": "stdout",
     "output_type": "stream",
     "text": [
      "[30  9 11  5  3  7]\n"
     ]
    }
   ],
   "source": [
    "print(np.hstack((a1,a2)))"
   ]
  },
  {
   "cell_type": "code",
   "execution_count": 167,
   "id": "8a1d9dc2-c0d0-4a7b-9b0b-da25dd2db43c",
   "metadata": {},
   "outputs": [
    {
     "name": "stdout",
     "output_type": "stream",
     "text": [
      "[array([1, 2]), array([3, 4]), array([5, 6]), array([7, 8]), array([ 9, 10])]\n"
     ]
    }
   ],
   "source": [
    "arr=np.array([1,2,3,4,5,6,7,8,9,10])\n",
    "print(np.array_split(arr,5))"
   ]
  },
  {
   "cell_type": "code",
   "execution_count": 173,
   "id": "60227bdf-e039-4ed9-97b0-8c84fd269e0d",
   "metadata": {},
   "outputs": [
    {
     "name": "stdout",
     "output_type": "stream",
     "text": [
      "[10  9 11]\n"
     ]
    }
   ],
   "source": [
    "view=a1.view()\n",
    "view[0]=10\n",
    "print(a1)"
   ]
  },
  {
   "cell_type": "code",
   "execution_count": 179,
   "id": "c2699a6d-84fe-4391-9927-3e8ab4f94545",
   "metadata": {},
   "outputs": [
    {
     "name": "stdout",
     "output_type": "stream",
     "text": [
      "[10  9 11]\n"
     ]
    }
   ],
   "source": [
    "copy=a1.copy()\n",
    "copy[0]=100\n",
    "print(a1)"
   ]
  },
  {
   "cell_type": "code",
   "execution_count": 181,
   "id": "bce04317-4529-4ffb-afe6-e6339d41a5c0",
   "metadata": {},
   "outputs": [],
   "source": [
    "arr=np.array([1,2,3])\n",
    "np.save('array.npy',arr)"
   ]
  },
  {
   "cell_type": "code",
   "execution_count": 185,
   "id": "17309079-6ce8-48de-8494-dd0d8f94bb60",
   "metadata": {},
   "outputs": [
    {
     "name": "stdout",
     "output_type": "stream",
     "text": [
      "[1 2 3]\n"
     ]
    }
   ],
   "source": [
    "load_arr=np.load('array.npy')\n",
    "print(load_arr)"
   ]
  },
  {
   "cell_type": "markdown",
   "id": "44657abb-457d-4d23-bda8-d3008ca9ef7c",
   "metadata": {},
   "source": [
    "#Task 1:\n",
    "#Filter the dataset for a specific city (e.g,NewYork) and extract relevant columns\n",
    "Task2:\n",
    "Plot the average (min-max) annual temperature trend for NewYork(use Scatter plot)"
   ]
  }
 ],
 "metadata": {
  "kernelspec": {
   "display_name": "Python 3 (ipykernel)",
   "language": "python",
   "name": "python3"
  },
  "language_info": {
   "codemirror_mode": {
    "name": "ipython",
    "version": 3
   },
   "file_extension": ".py",
   "mimetype": "text/x-python",
   "name": "python",
   "nbconvert_exporter": "python",
   "pygments_lexer": "ipython3",
   "version": "3.12.4"
  }
 },
 "nbformat": 4,
 "nbformat_minor": 5
}
