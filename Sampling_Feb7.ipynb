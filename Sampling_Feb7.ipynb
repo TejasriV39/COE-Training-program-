{
 "cells": [
  {
   "cell_type": "markdown",
   "id": "52375315-d1c8-4f84-8d4a-c71a7c90a45e",
   "metadata": {},
   "source": [
    "**Balancing a Dataset with Down sampling**\n",
    "\n",
    "Imagine we have a datset for a binary classification task where the class are imbalanced, and we want to downsample the majority class to balance the dataset."
   ]
  },
  {
   "cell_type": "code",
   "execution_count": 40,
   "id": "ab5470ec-8424-419b-8464-d77cb58821c9",
   "metadata": {},
   "outputs": [
    {
     "data": {
      "text/plain": [
       "Class\n",
       "High    8\n",
       "Low     7\n",
       "Name: count, dtype: int64"
      ]
     },
     "execution_count": 40,
     "metadata": {},
     "output_type": "execute_result"
    }
   ],
   "source": [
    "import pandas as pd\n",
    "from sklearn.utils import resample\n",
    "df=pd.DataFrame({\n",
    "    'Age': [22,26,19,20,45,50,43,48,18,33,35,52,60,62,70],\n",
    "    'Income': [2000,2500,3000,2300,2200,3300,3500,3900,4000,4100,4700,5000,5300,6200,6800],\n",
    "'Class':['High','Low','Low','High','High','Low','High','High','Low','High','Low','High','Low','High','Low']\n",
    "})\n",
    "df['Class'].value_counts()"
   ]
  },
  {
   "cell_type": "markdown",
   "id": "61e77246-c34b-4000-8761-7d09fbefdc6c",
   "metadata": {},
   "source": [
    "High class has 8 instances\n",
    "\n",
    "Low class has 7 instances"
   ]
  },
  {
   "cell_type": "code",
   "execution_count": 44,
   "id": "5c9e8094-1a3e-4732-8b5c-cc6758ccba6a",
   "metadata": {},
   "outputs": [],
   "source": [
    "df_high=df[df['Class']=='High']\n",
    "df_low=df[df['Class']=='Low']"
   ]
  },
  {
   "cell_type": "code",
   "execution_count": 26,
   "id": "06f98e8d-14da-4958-8b33-2657dcccdf80",
   "metadata": {},
   "outputs": [],
   "source": [
    "df_high_downsampled=resample(df_high,replace=False,n_samples=len(df_low),random_state=42)\n"
   ]
  },
  {
   "cell_type": "code",
   "execution_count": 34,
   "id": "666d39ec-6fd6-43ac-82ab-7c6a9ac8d837",
   "metadata": {},
   "outputs": [],
   "source": [
    "import pandas as pd\n",
    "df_balanced=pd.concat([df_high_downsampled,df_low])"
   ]
  },
  {
   "cell_type": "code",
   "execution_count": 38,
   "id": "4f34b7b2-ee4b-4310-b82d-960b73eb35a2",
   "metadata": {},
   "outputs": [
    {
     "name": "stdout",
     "output_type": "stream",
     "text": [
      "Class\n",
      "High    7\n",
      "Low     7\n",
      "Name: count, dtype: int64\n"
     ]
    }
   ],
   "source": [
    "print(df_balanced['Class'].value_counts())"
   ]
  },
  {
   "cell_type": "code",
   "execution_count": 52,
   "id": "ce411eb1-5b71-430f-8dff-c0c2480418c6",
   "metadata": {},
   "outputs": [],
   "source": [
    "#reexecute the original dataframe for the original values of high and low to perform upsampling"
   ]
  },
  {
   "cell_type": "code",
   "execution_count": 48,
   "id": "79be3dcc-0c55-4b1a-a594-0bb1bf9e27d8",
   "metadata": {},
   "outputs": [],
   "source": [
    "df_low_upsampled=resample(df_low,replace=True,n_samples=len(df_high),random_state=42)\n",
    "df_balanced=pd.concat([df_low_upsampled,df_high])"
   ]
  },
  {
   "cell_type": "code",
   "execution_count": 50,
   "id": "419c2751-b1ba-44d6-95e7-10bbe80df251",
   "metadata": {},
   "outputs": [
    {
     "name": "stdout",
     "output_type": "stream",
     "text": [
      "Class\n",
      "Low     8\n",
      "High    8\n",
      "Name: count, dtype: int64\n"
     ]
    }
   ],
   "source": [
    "print(df_balanced['Class'].value_counts())"
   ]
  },
  {
   "cell_type": "code",
   "execution_count": 54,
   "id": "eca05ce3-1248-4737-a6fe-5e003a8d2886",
   "metadata": {},
   "outputs": [
    {
     "name": "stdout",
     "output_type": "stream",
     "text": [
      "Defaulting to user installation because normal site-packages is not writeable\n",
      "Requirement already satisfied: imbalanced-learn in c:\\programdata\\anaconda3\\lib\\site-packages (0.12.3)\n",
      "Requirement already satisfied: numpy>=1.17.3 in c:\\programdata\\anaconda3\\lib\\site-packages (from imbalanced-learn) (1.26.4)\n",
      "Requirement already satisfied: scipy>=1.5.0 in c:\\programdata\\anaconda3\\lib\\site-packages (from imbalanced-learn) (1.13.1)\n",
      "Requirement already satisfied: scikit-learn>=1.0.2 in c:\\programdata\\anaconda3\\lib\\site-packages (from imbalanced-learn) (1.4.2)\n",
      "Requirement already satisfied: joblib>=1.1.1 in c:\\programdata\\anaconda3\\lib\\site-packages (from imbalanced-learn) (1.4.2)\n",
      "Requirement already satisfied: threadpoolctl>=2.0.0 in c:\\programdata\\anaconda3\\lib\\site-packages (from imbalanced-learn) (2.2.0)\n",
      "Note: you may need to restart the kernel to use updated packages.\n"
     ]
    }
   ],
   "source": [
    "pip install imbalanced-learn"
   ]
  },
  {
   "cell_type": "code",
   "execution_count": 56,
   "id": "5fa9568e-7ddd-4502-a5fb-5596ebeee64b",
   "metadata": {},
   "outputs": [],
   "source": [
    "import pandas as pd\n",
    "from imblearn.over_sampling import SMOTE\n"
   ]
  },
  {
   "cell_type": "markdown",
   "id": "bdf9b4fb-c273-4ab7-a97d-6e2c610b622c",
   "metadata": {},
   "source": [
    "**SMOTE( Synthetic Minority Over-Sampling Technique) to generate asynthetic samples instead of duplicating existing ones**\n",
    "\n",
    "1. SMOTE ot genrate synthetic samples instead of duplicating existing ones.\n",
    "\n",
    "2. Convert categorical class Labels into numeric form for SMOTE to work.\n",
    "\n",
    "3. Apply SMOTE to balance the dataset.\n",
    "\n",
    "4. Convert back to original categorical labels.\n",
    "\n",
    "5. Combine the resampled data into a final balanced dataset.\n"
   ]
  },
  {
   "cell_type": "code",
   "execution_count": 61,
   "id": "1f243831-a1a1-416b-886c-2301783c990b",
   "metadata": {},
   "outputs": [
    {
     "data": {
      "text/plain": [
       "Class\n",
       "Minority    8\n",
       "Majority    7\n",
       "Name: count, dtype: int64"
      ]
     },
     "execution_count": 61,
     "metadata": {},
     "output_type": "execute_result"
    }
   ],
   "source": [
    "df=pd.DataFrame({\n",
    "    'Age': [22,26,19,20,45,50,43,48,18,33,35,52,60,62,70],\n",
    "    'Income': [2000,2500,3000,2300,2200,3300,3500,3900,4000,4100,4700,5000,5300,6200,6800],\n",
    "'Class':['Minority','Majority','Minority','Majority','Minority','Majority','Minority','Majority','Majority','Minority','Minority','Majority','Minority','Minority','Majority']\n",
    "})\n",
    "df['Class'].value_counts()"
   ]
  },
  {
   "cell_type": "markdown",
   "id": "63e85f09-85a1-4527-8d62-e2b82e329182",
   "metadata": {},
   "source": [
    "pip uninstall scikit-learn imbalanced-learn -y\n",
    "pip install -U scikit learn imbalanced-learn"
   ]
  },
  {
   "cell_type": "code",
   "execution_count": null,
   "id": "243d6477-6f1e-4215-89c3-1640c5b744ae",
   "metadata": {},
   "outputs": [],
   "source": []
  },
  {
   "cell_type": "code",
   "execution_count": 86,
   "id": "cc13762b-c172-4f89-8265-831a3a1185b3",
   "metadata": {},
   "outputs": [
    {
     "name": "stdout",
     "output_type": "stream",
     "text": [
      "Class\n",
      "1    9\n",
      "0    9\n",
      "Name: count, dtype: int64\n",
      "    Age  Income  Class\n",
      "0    22    2000      1\n",
      "1    25    2500      0\n",
      "2    27    2700      0\n",
      "3    28    3200      0\n",
      "4    30    3500      0\n",
      "5    35    3800      1\n",
      "6    40    4000      1\n",
      "7    45    4200      1\n",
      "8    50    4300      0\n",
      "9    55    4500      0\n",
      "10   60    5000      0\n",
      "11   65    5500      0\n",
      "12   70    6000      0\n",
      "13   40    4031      1\n",
      "14   35    3831      1\n",
      "15   44    4176      1\n",
      "16   35    3826      1\n",
      "17   41    4040      1\n"
     ]
    }
   ],
   "source": [
    "import pandas as pd\n",
    "from imblearn.over_sampling import SMOTE\n",
    "df = pd.DataFrame({\n",
    "    'Age': [22, 25, 27, 28, 30, 35, 40, 45, 50, 55, 60, 65, 70],\n",
    "    'Income': [2000, 2500, 2700, 3200, 3500, 3800, 4000, 4200, 4300, 4500, 5000, 5500, 6000],\n",
    "    'Class': ['Minority', 'Majority', 'Majority', 'Majority', 'Majority', 'Minority', 'Minority', 'Minority', 'Majority',  'Majority', 'Majority', 'Majority', 'Majority']\n",
    "})\n",
    "df['Class']=df['Class'].map({'Majority':0,'Minority':1})\n",
    "X=df[['Age','Income']]\n",
    "Y=df['Class']\n",
    "smote=SMOTE(sampling_strategy='auto',random_state=42,k_neighbors=3)\n",
    "x_resampled,y_resampled=smote.fit_resample(X,Y)\n",
    "y_resampled,y_resampled.map({0:'Majority',1:'Minority'})\n",
    "df_balanced=pd.concat([pd.DataFrame(x_resampled,columns=['Age','Income']),pd.DataFrame(y_resampled,columns=['Class'])],axis=1)\n",
    "print(df_balanced['Class'].value_counts())\n",
    "print(df_balanced)\n",
    "\n"
   ]
  },
  {
   "cell_type": "code",
   "execution_count": null,
   "id": "279a1e6e-90a6-4861-b301-eb124efd0d76",
   "metadata": {},
   "outputs": [],
   "source": []
  }
 ],
 "metadata": {
  "kernelspec": {
   "display_name": "Python 3 (ipykernel)",
   "language": "python",
   "name": "python3"
  },
  "language_info": {
   "codemirror_mode": {
    "name": "ipython",
    "version": 3
   },
   "file_extension": ".py",
   "mimetype": "text/x-python",
   "name": "python",
   "nbconvert_exporter": "python",
   "pygments_lexer": "ipython3",
   "version": "3.12.4"
  }
 },
 "nbformat": 4,
 "nbformat_minor": 5
}
