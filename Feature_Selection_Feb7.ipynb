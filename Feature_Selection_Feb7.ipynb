{
 "cells": [
  {
   "cell_type": "markdown",
   "id": "a66310a0-117f-4252-b48d-1a84a2d12e41",
   "metadata": {},
   "source": [
    "**Feature Selection in Machine Learning**"
   ]
  },
  {
   "cell_type": "markdown",
   "id": "0b6640d2-85ab-4f16-896e-96a80a87bb63",
   "metadata": {},
   "source": [
    "**What is Feature Selection?**\n",
    " \n",
    "        Feature selection is the process of choosing the most important features (variables) from a dataset to improve a machine learning model's performance and efficiency. Instead of using all the features, we select only the most relevant ones that contribute significantly to predictions."
   ]
  },
  {
   "cell_type": "markdown",
   "id": "4ae44ca4-ef78-409e-b862-dbc8efd2f136",
   "metadata": {},
   "source": [
    "**Why Do We Need Feature Selection?**\n",
    "\n",
    "*1.Reduces Overfitting 📉*\n",
    " \n",
    "        Too many irrelevant features can make a model complex and cause it to overfit the training data.\n",
    "\n",
    "*2.Improves Model Performance 🚀*\n",
    " \n",
    "        Selecting relevant features boosts accuracy and reduces unnecessary noise in the data.\n",
    "\n",
    "*3.Reduces Training Time ⏳*\n",
    " \n",
    "        Fewer features mean faster model training and lower computational cost.\n",
    "\n",
    "*4.Enhances Interpretability 🔍*\n",
    " \n",
    "        Helps in understanding which features actually impact predictions.\n",
    " "
   ]
  },
  {
   "cell_type": "markdown",
   "id": "66e3b7dd-78ce-4b0e-9b45-f728ce244d05",
   "metadata": {},
   "source": [
    "**Types of Feature Selection Methods**"
   ]
  },
  {
   "cell_type": "markdown",
   "id": "89127edf-2f3c-4e53-b138-8d65a3310367",
   "metadata": {},
   "source": [
    "<ins>*Type => Wrapper Methods:*</ins>\n",
    " \n",
    "Method => Forward/Backward Selection, Recursive Feature Elimination (RFE)\n",
    " \n",
    "Description => Train models with different feature subsets and select the best.\n",
    " \n",
    "<ins>*Type => Embedded Methods*</ins>\n",
    " \n",
    "Method =>Lasso Regression, Decision Trees\n",
    " \n",
    "Description =>Feature selection is built into the model training process.\n",
    " "
   ]
  },
  {
   "cell_type": "code",
   "execution_count": null,
   "id": "6c27f063-682b-483b-ab87-392d329be1fe",
   "metadata": {},
   "outputs": [],
   "source": []
  },
  {
   "cell_type": "code",
   "execution_count": 12,
   "id": "293882c2-5786-4bf5-a1fb-226a85ea79f9",
   "metadata": {},
   "outputs": [],
   "source": [
    "import pandas as pd\n",
    "import numpy as np\n",
    "from sklearn.model_selection import train_test_split\n",
    "from sklearn.ensemble import RandomForestRegressor\n",
    "from sklearn.feature_selection import RFE\n",
    "from sklearn.linear_model import Lasso\n",
    "import seaborn as sns\n",
    "import matplotlib.pyplot as plt"
   ]
  },
  {
   "cell_type": "code",
   "execution_count": 14,
   "id": "4ad20592-0595-4c3d-bf96-83a5cba4a6da",
   "metadata": {},
   "outputs": [
    {
     "data": {
      "text/html": [
       "<div>\n",
       "<style scoped>\n",
       "    .dataframe tbody tr th:only-of-type {\n",
       "        vertical-align: middle;\n",
       "    }\n",
       "\n",
       "    .dataframe tbody tr th {\n",
       "        vertical-align: top;\n",
       "    }\n",
       "\n",
       "    .dataframe thead th {\n",
       "        text-align: right;\n",
       "    }\n",
       "</style>\n",
       "<table border=\"1\" class=\"dataframe\">\n",
       "  <thead>\n",
       "    <tr style=\"text-align: right;\">\n",
       "      <th></th>\n",
       "      <th>Size</th>\n",
       "      <th>Bedrooms</th>\n",
       "      <th>Age</th>\n",
       "      <th>Price</th>\n",
       "    </tr>\n",
       "  </thead>\n",
       "  <tbody>\n",
       "    <tr>\n",
       "      <th>0</th>\n",
       "      <td>4174</td>\n",
       "      <td>2</td>\n",
       "      <td>32</td>\n",
       "      <td>486393</td>\n",
       "    </tr>\n",
       "    <tr>\n",
       "      <th>1</th>\n",
       "      <td>4507</td>\n",
       "      <td>2</td>\n",
       "      <td>39</td>\n",
       "      <td>134754</td>\n",
       "    </tr>\n",
       "    <tr>\n",
       "      <th>2</th>\n",
       "      <td>1860</td>\n",
       "      <td>4</td>\n",
       "      <td>49</td>\n",
       "      <td>326814</td>\n",
       "    </tr>\n",
       "    <tr>\n",
       "      <th>3</th>\n",
       "      <td>2294</td>\n",
       "      <td>2</td>\n",
       "      <td>32</td>\n",
       "      <td>337714</td>\n",
       "    </tr>\n",
       "    <tr>\n",
       "      <th>4</th>\n",
       "      <td>2130</td>\n",
       "      <td>2</td>\n",
       "      <td>4</td>\n",
       "      <td>242483</td>\n",
       "    </tr>\n",
       "  </tbody>\n",
       "</table>\n",
       "</div>"
      ],
      "text/plain": [
       "   Size  Bedrooms  Age   Price\n",
       "0  4174         2   32  486393\n",
       "1  4507         2   39  134754\n",
       "2  1860         4   49  326814\n",
       "3  2294         2   32  337714\n",
       "4  2130         2    4  242483"
      ]
     },
     "execution_count": 14,
     "metadata": {},
     "output_type": "execute_result"
    }
   ],
   "source": [
    "np.random.seed(42)\n",
    "data=pd.DataFrame({\n",
    "    'Size': np.random.randint(1000,5000,100),\n",
    "    'Bedrooms':np.random.randint(1,5,100),\n",
    "    'Age':np.random.randint(1,50,100),\n",
    "    'Price':np.random.randint(100000,500000,100)\n",
    "})\n",
    "data.head()"
   ]
  },
  {
   "cell_type": "code",
   "execution_count": 20,
   "id": "4a87db05-cc2a-4100-afa8-16c6fcf601f2",
   "metadata": {},
   "outputs": [
    {
     "data": {
      "image/png": "[encoded data removed]",
      "text/plain": [
       "<Figure size 600x400 with 2 Axes>"
      ]
     },
     "metadata": {},
     "output_type": "display_data"
    }
   ],
   "source": [
    "plt.figure(figsize=(6,4))\n",
    "sns.heatmap(data.corr(),annot=True,cmap='magma',fmt='.2f')\n",
    "plt.title(\"Feature correlation matrix\")\n",
    "plt.show()"
   ]
  },
  {
   "cell_type": "code",
   "execution_count": 30,
   "id": "700a7ee6-61c2-4882-bf80-3cccf2dbbdd2",
   "metadata": {},
   "outputs": [
    {
     "name": "stdout",
     "output_type": "stream",
     "text": [
      "Selected Features using RFE: Index(['Size', 'Age'], dtype='object')\n"
     ]
    }
   ],
   "source": [
    "#Step 3: Apply Recursive Feature Elimination (Wrapper Method)\n",
    "X=data.drop(columns=['Price'])\n",
    "y=data['Price']\n",
    "model=RandomForestRegressor()\n",
    "rfe=RFE(model,n_features_to_select=2)\n",
    "X_selected=rfe.fit_transform(X,y)\n",
    "print(\"Selected Features using RFE:\", X.columns[rfe.support_])\n",
    "\n",
    "#Apply RFE (Wrapper Method) to select the top 2 important features"
   ]
  },
  {
   "cell_type": "code",
   "execution_count": 32,
   "id": "57b70897-b6b2-4799-8161-42975a641b68",
   "metadata": {},
   "outputs": [
    {
     "name": "stdout",
     "output_type": "stream",
     "text": [
      "Selected Features using lasso: Index(['Size', 'Bedrooms', 'Age'], dtype='object')\n"
     ]
    }
   ],
   "source": [
    "#Step 4: Apply Lasso(Least absolute shrinkage and selection Operator) Regression (Embedded Method)\n",
    "lasso=Lasso(alpha=0.1)\n",
    "lasso.fit(X,y)\n",
    "importance=np.abs(lasso.coef_)\n",
    "\n",
    "selected_features=X.columns[importance>0]\n",
    "print(\"Selected Features using lasso:\", selected_features)\n",
    "#Apply lasso regression (Embedded Method) to eliminate irrelevant features."
   ]
  },
  {
   "cell_type": "code",
   "execution_count": null,
   "id": "6187d87d-08e7-43de-b703-ad5abd08296c",
   "metadata": {},
   "outputs": [],
   "source": []
  }
 ],
 "metadata": {
  "kernelspec": {
   "display_name": "Python 3 (ipykernel)",
   "language": "python",
   "name": "python3"
  },
  "language_info": {
   "codemirror_mode": {
    "name": "ipython",
    "version": 3
   },
   "file_extension": ".py",
   "mimetype": "text/x-python",
   "name": "python",
   "nbconvert_exporter": "python",
   "pygments_lexer": "ipython3",
   "version": "3.12.4"
  }
 },
 "nbformat": 4,
 "nbformat_minor": 5
}
